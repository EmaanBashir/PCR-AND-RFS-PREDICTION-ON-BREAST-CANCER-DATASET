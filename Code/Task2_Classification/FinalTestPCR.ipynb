{
 "cells": [
  {
   "cell_type": "code",
   "execution_count": 8,
   "id": "f213b0fb",
   "metadata": {},
   "outputs": [],
   "source": [
    "import pandas as pd\n",
    "import numpy as np\n",
    "import joblib\n",
    "from sklearn.impute import SimpleImputer"
   ]
  },
  {
   "cell_type": "code",
   "execution_count": 9,
   "id": "fc2702f8",
   "metadata": {},
   "outputs": [],
   "source": [
    "def data_cleaning_for_classification(df):\n",
    "    \n",
    "    # dropping RelapseFreeSurvival for Classification\n",
    "    \n",
    "#     df=df.drop('RelapseFreeSurvival (outcome)',axis=1)\n",
    "    \n",
    "    # Replacing missing values\n",
    "    \n",
    "    df=df.replace(999, np.nan)\n",
    "#     df=df.dropna(subset=['pCR (outcome)'])\n",
    "    df=df.drop('ID',axis=1)\n",
    "    \n",
    "    imputer = joblib.load('imputer_model.joblib')\n",
    "\n",
    "    df_imputed=imputer.transform(df)\n",
    "\n",
    "    df_imputed = pd.DataFrame(df_imputed, columns=df.columns)\n",
    "\n",
    "    # Dealing with Categorical variables\n",
    "\n",
    "    #  Age,ChemoGrade,Proliferation and TumorStage are ordinal categorical variables so we do not change them\n",
    "\n",
    "    # ER, PGR, HER2, TrippleNegative, HistologyType and LNStatus are either binary or categorical variables with 2 different\n",
    "    # values. We just convert HistologyType to binary format.\n",
    "\n",
    "    df_imputed['HistologyType'] = df_imputed['HistologyType'].map({1: 0, 2: 1})\n",
    "    \n",
    "    return df_imputed"
   ]
  },
  {
   "cell_type": "code",
   "execution_count": 10,
   "id": "9661c80a",
   "metadata": {},
   "outputs": [],
   "source": [
    "loaded_model = joblib.load('final_model_classification.model')"
   ]
  },
  {
   "cell_type": "code",
   "execution_count": 11,
   "id": "eadc35dd",
   "metadata": {},
   "outputs": [],
   "source": [
    "df_test_raw=pd.read_excel('TestDatasetExample.xls')\n",
    "\n",
    "\n",
    "\n",
    "df_test=data_cleaning_for_classification(df_test_raw)"
   ]
  },
  {
   "cell_type": "code",
   "execution_count": 12,
   "id": "1ae91518",
   "metadata": {},
   "outputs": [],
   "source": [
    "y_predict=loaded_model.predict(df_test)"
   ]
  },
  {
   "cell_type": "code",
   "execution_count": 13,
   "id": "008f9fd9",
   "metadata": {},
   "outputs": [],
   "source": [
    "results_df = pd.DataFrame({'ID': df_test_raw.iloc[:,0], 'PCR': y_predict})\n",
    "results_df.to_excel('Predictions_Results_Classification.xlsx', index=False)"
   ]
  },
  {
   "cell_type": "code",
   "execution_count": null,
   "id": "d172f996",
   "metadata": {},
   "outputs": [],
   "source": []
  }
 ],
 "metadata": {
  "kernelspec": {
   "display_name": "Python 3 (ipykernel)",
   "language": "python",
   "name": "python3"
  },
  "language_info": {
   "codemirror_mode": {
    "name": "ipython",
    "version": 3
   },
   "file_extension": ".py",
   "mimetype": "text/x-python",
   "name": "python",
   "nbconvert_exporter": "python",
   "pygments_lexer": "ipython3",
   "version": "3.11.5"
  }
 },
 "nbformat": 4,
 "nbformat_minor": 5
}
